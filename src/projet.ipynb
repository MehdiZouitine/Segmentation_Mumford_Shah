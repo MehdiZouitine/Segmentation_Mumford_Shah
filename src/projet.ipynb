{
 "cells": [
  {
   "cell_type": "code",
   "execution_count": 33,
   "metadata": {},
   "outputs": [
    {
     "name": "stdout",
     "output_type": "stream",
     "text": [
      "The nb_black extension is already loaded. To reload it, use:\n",
      "  %reload_ext nb_black\n"
     ]
    },
    {
     "data": {
      "application/javascript": [
       "\n",
       "            setTimeout(function() {\n",
       "                var nbb_cell_id = 33;\n",
       "                var nbb_unformatted_code = \"%load_ext nb_black\";\n",
       "                var nbb_formatted_code = \"%load_ext nb_black\";\n",
       "                var nbb_cells = Jupyter.notebook.get_cells();\n",
       "                for (var i = 0; i < nbb_cells.length; ++i) {\n",
       "                    if (nbb_cells[i].input_prompt_number == nbb_cell_id) {\n",
       "                        if (nbb_cells[i].get_text() == nbb_unformatted_code) {\n",
       "                             nbb_cells[i].set_text(nbb_formatted_code);\n",
       "                        }\n",
       "                        break;\n",
       "                    }\n",
       "                }\n",
       "            }, 500);\n",
       "            "
      ],
      "text/plain": [
       "<IPython.core.display.Javascript object>"
      ]
     },
     "metadata": {},
     "output_type": "display_data"
    }
   ],
   "source": [
    "%load_ext nb_black"
   ]
  },
  {
   "cell_type": "code",
   "execution_count": 34,
   "metadata": {},
   "outputs": [
    {
     "data": {
      "application/javascript": [
       "\n",
       "            setTimeout(function() {\n",
       "                var nbb_cell_id = 34;\n",
       "                var nbb_unformatted_code = \"import numpy as np\\nimport math\\nfrom domain import (\\n    H_eps,\\n    H_eps_derivative,\\n    EPS,\\n    gradient_descent,\\n    grad_phi_part,\\n    grad_w_part,\\n    get_frontier_phi,\\n)\\nfrom scipy.ndimage.interpolation import shift\\nimport pandas as pd\\nimport matplotlib.pyplot as plt\\nimport matplotlib.image as mpimg\\nfrom segmenter import Segmenter\";\n",
       "                var nbb_formatted_code = \"import numpy as np\\nimport math\\nfrom domain import (\\n    H_eps,\\n    H_eps_derivative,\\n    EPS,\\n    gradient_descent,\\n    grad_phi_part,\\n    grad_w_part,\\n    get_frontier_phi,\\n)\\nfrom scipy.ndimage.interpolation import shift\\nimport pandas as pd\\nimport matplotlib.pyplot as plt\\nimport matplotlib.image as mpimg\\nfrom segmenter import Segmenter\";\n",
       "                var nbb_cells = Jupyter.notebook.get_cells();\n",
       "                for (var i = 0; i < nbb_cells.length; ++i) {\n",
       "                    if (nbb_cells[i].input_prompt_number == nbb_cell_id) {\n",
       "                        if (nbb_cells[i].get_text() == nbb_unformatted_code) {\n",
       "                             nbb_cells[i].set_text(nbb_formatted_code);\n",
       "                        }\n",
       "                        break;\n",
       "                    }\n",
       "                }\n",
       "            }, 500);\n",
       "            "
      ],
      "text/plain": [
       "<IPython.core.display.Javascript object>"
      ]
     },
     "metadata": {},
     "output_type": "display_data"
    }
   ],
   "source": [
    "import numpy as np\n",
    "import math\n",
    "from domain import (\n",
    "    H_eps,\n",
    "    H_eps_derivative,\n",
    "    EPS,\n",
    "    gradient_descent,\n",
    "    grad_phi_part,\n",
    "    grad_w_part,\n",
    "    get_frontier_phi,\n",
    ")\n",
    "from scipy.ndimage.interpolation import shift\n",
    "import pandas as pd\n",
    "import matplotlib.pyplot as plt\n",
    "import matplotlib.image as mpimg\n",
    "from segmenter import Segmenter"
   ]
  },
  {
   "cell_type": "code",
   "execution_count": 46,
   "metadata": {
    "scrolled": true
   },
   "outputs": [
    {
     "data": {
      "text/plain": [
       "<matplotlib.image.AxesImage at 0x7eff4f676550>"
      ]
     },
     "execution_count": 46,
     "metadata": {},
     "output_type": "execute_result"
    },
    {
     "data": {
      "image/png": "[encoded data removed]",
      "text/plain": [
       "<Figure size 432x288 with 1 Axes>"
      ]
     },
     "metadata": {
      "needs_background": "light"
     },
     "output_type": "display_data"
    },
    {
     "data": {
      "application/javascript": [
       "\n",
       "            setTimeout(function() {\n",
       "                var nbb_cell_id = 46;\n",
       "                var nbb_unformatted_code = \"from PIL import Image\\n\\nimg = Image.open(\\\"../data/test/src_hand.jpg\\\").convert(\\\"L\\\")\\nimg = img.resize((100, 100))\\nimg = np.array(img)\\nmean = np.mean(img)\\nstd = np.std(img)\\nimg = (img - mean) / std\\nplt.imshow(img)\";\n",
       "                var nbb_formatted_code = \"from PIL import Image\\n\\nimg = Image.open(\\\"../data/test/src_hand.jpg\\\").convert(\\\"L\\\")\\nimg = img.resize((100, 100))\\nimg = np.array(img)\\nmean = np.mean(img)\\nstd = np.std(img)\\nimg = (img - mean) / std\\nplt.imshow(img)\";\n",
       "                var nbb_cells = Jupyter.notebook.get_cells();\n",
       "                for (var i = 0; i < nbb_cells.length; ++i) {\n",
       "                    if (nbb_cells[i].input_prompt_number == nbb_cell_id) {\n",
       "                        if (nbb_cells[i].get_text() == nbb_unformatted_code) {\n",
       "                             nbb_cells[i].set_text(nbb_formatted_code);\n",
       "                        }\n",
       "                        break;\n",
       "                    }\n",
       "                }\n",
       "            }, 500);\n",
       "            "
      ],
      "text/plain": [
       "<IPython.core.display.Javascript object>"
      ]
     },
     "metadata": {},
     "output_type": "display_data"
    }
   ],
   "source": [
    "from PIL import Image\n",
    "\n",
    "img = Image.open(\"../data/test/src_hand.jpg\").convert(\"L\")\n",
    "img = img.resize((100, 100))\n",
    "img = np.array(img)\n",
    "mean = np.mean(img)\n",
    "std = np.std(img)\n",
    "img = (img - mean) / std\n",
    "plt.imshow(img)"
   ]
  },
  {
   "cell_type": "code",
   "execution_count": 47,
   "metadata": {},
   "outputs": [
    {
     "data": {
      "application/javascript": [
       "\n",
       "            setTimeout(function() {\n",
       "                var nbb_cell_id = 47;\n",
       "                var nbb_unformatted_code = \"test = np.random.uniform(-1, 1, img.shape)\";\n",
       "                var nbb_formatted_code = \"test = np.random.uniform(-1, 1, img.shape)\";\n",
       "                var nbb_cells = Jupyter.notebook.get_cells();\n",
       "                for (var i = 0; i < nbb_cells.length; ++i) {\n",
       "                    if (nbb_cells[i].input_prompt_number == nbb_cell_id) {\n",
       "                        if (nbb_cells[i].get_text() == nbb_unformatted_code) {\n",
       "                             nbb_cells[i].set_text(nbb_formatted_code);\n",
       "                        }\n",
       "                        break;\n",
       "                    }\n",
       "                }\n",
       "            }, 500);\n",
       "            "
      ],
      "text/plain": [
       "<IPython.core.display.Javascript object>"
      ]
     },
     "metadata": {},
     "output_type": "display_data"
    }
   ],
   "source": [
    "test = np.random.uniform(-1, 1, img.shape)"
   ]
  },
  {
   "cell_type": "code",
   "execution_count": 48,
   "metadata": {},
   "outputs": [
    {
     "data": {
      "application/javascript": [
       "\n",
       "            setTimeout(function() {\n",
       "                var nbb_cell_id = 48;\n",
       "                var nbb_unformatted_code = \"optimiser_param = {\\n    \\\"u\\\": img,\\n    \\\"step_w\\\": 0.1,\\n    \\\"step_phi\\\": 1,\\n    \\\"eps\\\": 10,\\n    \\\"lambda_\\\": 0.5,\\n    \\\"mu\\\": 0.5,\\n    \\\"it\\\": 25,\\n    \\\"verbose\\\": True,\\n    \\\"mode\\\": \\\"standard\\\",\\n    \\\"test\\\": test,\\n}\";\n",
       "                var nbb_formatted_code = \"optimiser_param = {\\n    \\\"u\\\": img,\\n    \\\"step_w\\\": 0.1,\\n    \\\"step_phi\\\": 1,\\n    \\\"eps\\\": 10,\\n    \\\"lambda_\\\": 0.5,\\n    \\\"mu\\\": 0.5,\\n    \\\"it\\\": 25,\\n    \\\"verbose\\\": True,\\n    \\\"mode\\\": \\\"standard\\\",\\n    \\\"test\\\": test,\\n}\";\n",
       "                var nbb_cells = Jupyter.notebook.get_cells();\n",
       "                for (var i = 0; i < nbb_cells.length; ++i) {\n",
       "                    if (nbb_cells[i].input_prompt_number == nbb_cell_id) {\n",
       "                        if (nbb_cells[i].get_text() == nbb_unformatted_code) {\n",
       "                             nbb_cells[i].set_text(nbb_formatted_code);\n",
       "                        }\n",
       "                        break;\n",
       "                    }\n",
       "                }\n",
       "            }, 500);\n",
       "            "
      ],
      "text/plain": [
       "<IPython.core.display.Javascript object>"
      ]
     },
     "metadata": {},
     "output_type": "display_data"
    }
   ],
   "source": [
    "optimiser_param = {\n",
    "    \"u\": img,\n",
    "    \"step_w\": 0.1,\n",
    "    \"step_phi\": 1,\n",
    "    \"eps\": 10,\n",
    "    \"lambda_\": 0.5,\n",
    "    \"mu\": 0.5,\n",
    "    \"it\": 25,\n",
    "    \"verbose\": True,\n",
    "    \"mode\": \"standard\",\n",
    "    \"test\": test,\n",
    "}"
   ]
  },
  {
   "cell_type": "code",
   "execution_count": 49,
   "metadata": {},
   "outputs": [
    {
     "data": {
      "application/javascript": [
       "\n",
       "            setTimeout(function() {\n",
       "                var nbb_cell_id = 49;\n",
       "                var nbb_unformatted_code = \"segmenter = Segmenter(optimiser_param)\";\n",
       "                var nbb_formatted_code = \"segmenter = Segmenter(optimiser_param)\";\n",
       "                var nbb_cells = Jupyter.notebook.get_cells();\n",
       "                for (var i = 0; i < nbb_cells.length; ++i) {\n",
       "                    if (nbb_cells[i].input_prompt_number == nbb_cell_id) {\n",
       "                        if (nbb_cells[i].get_text() == nbb_unformatted_code) {\n",
       "                             nbb_cells[i].set_text(nbb_formatted_code);\n",
       "                        }\n",
       "                        break;\n",
       "                    }\n",
       "                }\n",
       "            }, 500);\n",
       "            "
      ],
      "text/plain": [
       "<IPython.core.display.Javascript object>"
      ]
     },
     "metadata": {},
     "output_type": "display_data"
    }
   ],
   "source": [
    "segmenter = Segmenter(optimiser_param)"
   ]
  },
  {
   "cell_type": "code",
   "execution_count": 50,
   "metadata": {
    "scrolled": true
   },
   "outputs": [
    {
     "data": {
      "application/vnd.jupyter.widget-view+json": {
       "model_id": "6b73ee1a5f834d3fafc54f4795d4b463",
       "version_major": 2,
       "version_minor": 0
      },
      "text/plain": [
       "HBox(children=(IntProgress(value=0, max=25), HTML(value='')))"
      ]
     },
     "metadata": {},
     "output_type": "display_data"
    },
    {
     "name": "stdout",
     "output_type": "stream",
     "text": [
      "itération 0/25\n",
      "1004\n",
      "itération 0 : w gradient: 62.12190240689528\n",
      "itération 0 : phi gradient: 741.4479110227962\n",
      "itération 0 munford_shah functional: 40992.297580626844\n",
      "itération 1/25\n",
      "919\n",
      "itération 1 : w gradient: 34.36827428047522\n",
      "itération 1 : phi gradient: 951.9476850055195\n",
      "itération 1 munford_shah functional: 40380.35821826474\n",
      "itération 2/25\n",
      "881\n",
      "itération 2 : w gradient: 22.52152457773734\n",
      "itération 2 : phi gradient: 137.27081498407992\n",
      "itération 2 munford_shah functional: 39965.50774549522\n",
      "itération 3/25\n",
      "866\n",
      "itération 3 : w gradient: 16.556829662857076\n",
      "itération 3 : phi gradient: 71.07261564497739\n",
      "itération 3 munford_shah functional: 39658.61496022774\n",
      "itération 4/25\n",
      "857\n",
      "itération 4 : w gradient: 12.09367960122573\n",
      "itération 4 : phi gradient: 42.66251398611577\n",
      "itération 4 munford_shah functional: 39424.014695654194\n",
      "itération 5/25\n",
      "854\n",
      "itération 5 : w gradient: 9.28141308946659\n",
      "itération 5 : phi gradient: 27.158199433263864\n",
      "itération 5 munford_shah functional: 39235.62240266978\n",
      "itération 6/25\n",
      "850\n",
      "itération 6 : w gradient: 7.344020404242191\n",
      "itération 6 : phi gradient: 27.787225309567134\n",
      "itération 6 munford_shah functional: 39083.505300310644\n",
      "itération 7/25\n",
      "850\n",
      "itération 7 : w gradient: 6.515185620326614\n",
      "itération 7 : phi gradient: 12.918277173541496\n",
      "itération 7 munford_shah functional: 38957.79208296654\n",
      "itération 8/25\n",
      "846\n",
      "itération 8 : w gradient: 5.081163668308522\n",
      "itération 8 : phi gradient: 13.654174563227803\n",
      "itération 8 munford_shah functional: 38853.103901198214\n",
      "itération 9/25\n",
      "846\n",
      "itération 9 : w gradient: 4.232557780253241\n",
      "itération 9 : phi gradient: 13.48208987896034\n",
      "itération 9 munford_shah functional: 38764.010242207674\n",
      "itération 10/25\n",
      "845\n",
      "itération 10 : w gradient: 3.498964745502178\n",
      "itération 10 : phi gradient: 15.329503402453073\n",
      "itération 10 munford_shah functional: 38688.78956437802\n",
      "itération 11/25\n",
      "845\n",
      "itération 11 : w gradient: 2.9398027496596058\n",
      "itération 11 : phi gradient: 1.8129036350457894\n",
      "itération 11 munford_shah functional: 38625.63447482294\n",
      "itération 12/25\n",
      "845\n",
      "itération 12 : w gradient: 2.4947634931197853\n",
      "itération 12 : phi gradient: 0.6326890416606441\n",
      "itération 12 munford_shah functional: 38571.646758737\n",
      "itération 13/25\n",
      "845\n",
      "itération 13 : w gradient: 2.132566650031668\n",
      "itération 13 : phi gradient: 0.5309509401596441\n",
      "itération 13 munford_shah functional: 38525.29718049892\n",
      "itération 14/25\n",
      "845\n",
      "itération 14 : w gradient: 1.8336377345080728\n",
      "itération 14 : phi gradient: 0.466554622393734\n",
      "itération 14 munford_shah functional: 38485.36351366379\n",
      "itération 15/25\n",
      "845\n",
      "itération 15 : w gradient: 1.5843305552242926\n",
      "itération 15 : phi gradient: 0.43114354038984276\n",
      "itération 15 munford_shah functional: 38450.854306524656\n",
      "itération 16/25\n",
      "845\n",
      "itération 16 : w gradient: 1.3746426176500797\n",
      "itération 16 : phi gradient: 0.4519110214046067\n",
      "itération 16 munford_shah functional: 38420.95599529659\n",
      "itération 17/25\n",
      "845\n",
      "itération 17 : w gradient: 1.1970184323103268\n",
      "itération 17 : phi gradient: 0.6576239136055251\n",
      "itération 17 munford_shah functional: 38394.99473912671\n",
      "itération 18/25\n",
      "845\n",
      "itération 18 : w gradient: 1.0456307642755867\n",
      "itération 18 : phi gradient: 1.567681617843615\n",
      "itération 18 munford_shah functional: 38372.40810060226\n",
      "itération 19/25\n",
      "845\n",
      "itération 19 : w gradient: 0.9159133457751992\n",
      "itération 19 : phi gradient: 6.198145066367237\n",
      "itération 19 munford_shah functional: 38352.72356965328\n",
      "itération 20/25\n",
      "845\n",
      "itération 20 : w gradient: 0.8042413328252196\n",
      "itération 20 : phi gradient: 29.852270187367427\n",
      "itération 20 munford_shah functional: 38336.326547610115\n",
      "itération 21/25\n",
      "845\n",
      "itération 21 : w gradient: 0.7077051551762717\n",
      "itération 21 : phi gradient: 1.0519525427207\n",
      "itération 21 munford_shah functional: 38321.29615626994\n",
      "itération 22/25\n",
      "845\n",
      "itération 22 : w gradient: 0.6239464563206378\n",
      "itération 22 : phi gradient: 1.9754764142537535\n",
      "itération 22 munford_shah functional: 38308.14257960641\n",
      "itération 23/25\n",
      "845\n",
      "itération 23 : w gradient: 0.5510368193670865\n",
      "itération 23 : phi gradient: 4.151004764370371\n",
      "itération 23 munford_shah functional: 38296.61862791084\n",
      "itération 24/25\n",
      "846\n",
      "itération 24 : w gradient: 0.48738676347000814\n",
      "itération 24 : phi gradient: 7.280572983526928\n",
      "itération 24 munford_shah functional: 38286.896977851364\n",
      "\n"
     ]
    },
    {
     "data": {
      "application/javascript": [
       "\n",
       "            setTimeout(function() {\n",
       "                var nbb_cell_id = 50;\n",
       "                var nbb_unformatted_code = \"segmenter.segment()\";\n",
       "                var nbb_formatted_code = \"segmenter.segment()\";\n",
       "                var nbb_cells = Jupyter.notebook.get_cells();\n",
       "                for (var i = 0; i < nbb_cells.length; ++i) {\n",
       "                    if (nbb_cells[i].input_prompt_number == nbb_cell_id) {\n",
       "                        if (nbb_cells[i].get_text() == nbb_unformatted_code) {\n",
       "                             nbb_cells[i].set_text(nbb_formatted_code);\n",
       "                        }\n",
       "                        break;\n",
       "                    }\n",
       "                }\n",
       "            }, 500);\n",
       "            "
      ],
      "text/plain": [
       "<IPython.core.display.Javascript object>"
      ]
     },
     "metadata": {},
     "output_type": "display_data"
    }
   ],
   "source": [
    "segmenter.segment()"
   ]
  },
  {
   "cell_type": "code",
   "execution_count": 51,
   "metadata": {
    "scrolled": false
   },
   "outputs": [
    {
     "data": {
      "image/png": "[encoded data removed]",
      "text/plain": [
       "<Figure size 432x288 with 1 Axes>"
      ]
     },
     "metadata": {
      "needs_background": "light"
     },
     "output_type": "display_data"
    },
    {
     "data": {
      "image/png": "[encoded data removed]",
      "text/plain": [
       "<Figure size 432x288 with 1 Axes>"
      ]
     },
     "metadata": {
      "needs_background": "light"
     },
     "output_type": "display_data"
    },
    {
     "data": {
      "image/png": "[encoded data removed]",
      "text/plain": [
       "<Figure size 432x288 with 1 Axes>"
      ]
     },
     "metadata": {
      "needs_background": "light"
     },
     "output_type": "display_data"
    },
    {
     "data": {
      "image/png": "[encoded data removed]",
      "text/plain": [
       "<Figure size 432x288 with 1 Axes>"
      ]
     },
     "metadata": {
      "needs_background": "light"
     },
     "output_type": "display_data"
    },
    {
     "data": {
      "image/png": "[encoded data removed]",
      "text/plain": [
       "<Figure size 432x288 with 1 Axes>"
      ]
     },
     "metadata": {
      "needs_background": "light"
     },
     "output_type": "display_data"
    },
    {
     "data": {
      "application/javascript": [
       "\n",
       "            setTimeout(function() {\n",
       "                var nbb_cell_id = 51;\n",
       "                var nbb_unformatted_code = \"segmenter.plot_stats()\";\n",
       "                var nbb_formatted_code = \"segmenter.plot_stats()\";\n",
       "                var nbb_cells = Jupyter.notebook.get_cells();\n",
       "                for (var i = 0; i < nbb_cells.length; ++i) {\n",
       "                    if (nbb_cells[i].input_prompt_number == nbb_cell_id) {\n",
       "                        if (nbb_cells[i].get_text() == nbb_unformatted_code) {\n",
       "                             nbb_cells[i].set_text(nbb_formatted_code);\n",
       "                        }\n",
       "                        break;\n",
       "                    }\n",
       "                }\n",
       "            }, 500);\n",
       "            "
      ],
      "text/plain": [
       "<IPython.core.display.Javascript object>"
      ]
     },
     "metadata": {},
     "output_type": "display_data"
    }
   ],
   "source": [
    "segmenter.plot_stats()"
   ]
  },
  {
   "cell_type": "code",
   "execution_count": null,
   "metadata": {},
   "outputs": [],
   "source": []
  },
  {
   "cell_type": "code",
   "execution_count": null,
   "metadata": {},
   "outputs": [],
   "source": []
  }
 ],
 "metadata": {
  "kernelspec": {
   "display_name": "Python 3",
   "language": "python",
   "name": "python3"
  },
  "language_info": {
   "codemirror_mode": {
    "name": "ipython",
    "version": 3
   },
   "file_extension": ".py",
   "mimetype": "text/x-python",
   "name": "python",
   "nbconvert_exporter": "python",
   "pygments_lexer": "ipython3",
   "version": "3.7.4"
  }
 },
 "nbformat": 4,
 "nbformat_minor": 2
}
