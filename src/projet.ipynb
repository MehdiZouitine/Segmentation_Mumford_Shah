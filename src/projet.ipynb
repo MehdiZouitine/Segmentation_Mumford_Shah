{
 "cells": [
  {
   "cell_type": "code",
   "execution_count": 1,
   "metadata": {},
   "outputs": [
    {
     "data": {
      "application/javascript": [
       "\n",
       "            setTimeout(function() {\n",
       "                var nbb_cell_id = 1;\n",
       "                var nbb_unformatted_code = \"%load_ext nb_black\";\n",
       "                var nbb_formatted_code = \"%load_ext nb_black\";\n",
       "                var nbb_cells = Jupyter.notebook.get_cells();\n",
       "                for (var i = 0; i < nbb_cells.length; ++i) {\n",
       "                    if (nbb_cells[i].input_prompt_number == nbb_cell_id) {\n",
       "                        if (nbb_cells[i].get_text() == nbb_unformatted_code) {\n",
       "                             nbb_cells[i].set_text(nbb_formatted_code);\n",
       "                        }\n",
       "                        break;\n",
       "                    }\n",
       "                }\n",
       "            }, 500);\n",
       "            "
      ],
      "text/plain": [
       "<IPython.core.display.Javascript object>"
      ]
     },
     "metadata": {},
     "output_type": "display_data"
    }
   ],
   "source": [
    "%load_ext nb_black"
   ]
  },
  {
   "cell_type": "code",
   "execution_count": 2,
   "metadata": {},
   "outputs": [
    {
     "data": {
      "application/javascript": [
       "\n",
       "            setTimeout(function() {\n",
       "                var nbb_cell_id = 2;\n",
       "                var nbb_unformatted_code = \"import numpy as np\\nimport math\\nfrom domain import (\\n    H_eps,\\n    H_eps_derivative,\\n    EPS,\\n    gradient_descent,\\n    grad_phi_part,\\n    grad_w_part,\\n    get_frontier_phi,\\n)\\nfrom scipy.ndimage.interpolation import shift\\nimport pandas as pd\\nimport matplotlib.pyplot as plt\\nimport matplotlib.image as mpimg\\nfrom segmenter import Segmenter\";\n",
       "                var nbb_formatted_code = \"import numpy as np\\nimport math\\nfrom domain import (\\n    H_eps,\\n    H_eps_derivative,\\n    EPS,\\n    gradient_descent,\\n    grad_phi_part,\\n    grad_w_part,\\n    get_frontier_phi,\\n)\\nfrom scipy.ndimage.interpolation import shift\\nimport pandas as pd\\nimport matplotlib.pyplot as plt\\nimport matplotlib.image as mpimg\\nfrom segmenter import Segmenter\";\n",
       "                var nbb_cells = Jupyter.notebook.get_cells();\n",
       "                for (var i = 0; i < nbb_cells.length; ++i) {\n",
       "                    if (nbb_cells[i].input_prompt_number == nbb_cell_id) {\n",
       "                        if (nbb_cells[i].get_text() == nbb_unformatted_code) {\n",
       "                             nbb_cells[i].set_text(nbb_formatted_code);\n",
       "                        }\n",
       "                        break;\n",
       "                    }\n",
       "                }\n",
       "            }, 500);\n",
       "            "
      ],
      "text/plain": [
       "<IPython.core.display.Javascript object>"
      ]
     },
     "metadata": {},
     "output_type": "display_data"
    }
   ],
   "source": [
    "import numpy as np\n",
    "import math\n",
    "from domain import (\n",
    "    H_eps,\n",
    "    H_eps_derivative,\n",
    "    EPS,\n",
    "    gradient_descent,\n",
    "    grad_phi_part,\n",
    "    grad_w_part,\n",
    "    get_frontier_phi,\n",
    ")\n",
    "from scipy.ndimage.interpolation import shift\n",
    "import pandas as pd\n",
    "import matplotlib.pyplot as plt\n",
    "import matplotlib.image as mpimg\n",
    "from segmenter import Segmenter"
   ]
  },
  {
   "cell_type": "code",
   "execution_count": 3,
   "metadata": {
    "scrolled": true
   },
   "outputs": [
    {
     "data": {
      "text/plain": [
       "<matplotlib.image.AxesImage at 0x7f66f1c741d0>"
      ]
     },
     "execution_count": 3,
     "metadata": {},
     "output_type": "execute_result"
    },
    {
     "data": {
      "image/png": "[encoded data removed]",
      "text/plain": [
       "<Figure size 432x288 with 1 Axes>"
      ]
     },
     "metadata": {
      "needs_background": "light"
     },
     "output_type": "display_data"
    },
    {
     "data": {
      "application/javascript": [
       "\n",
       "            setTimeout(function() {\n",
       "                var nbb_cell_id = 3;\n",
       "                var nbb_unformatted_code = \"from PIL import Image\\n\\nimg = Image.open(\\\"../data/test/src_hand.jpg\\\").convert(\\\"L\\\")\\nimg = img.resize((70, 70))\\nimg = np.array(img)\\nimg = (img-np.mean(img))/np.std(img)\\nplt.imshow(img)\";\n",
       "                var nbb_formatted_code = \"from PIL import Image\\n\\nimg = Image.open(\\\"../data/test/src_hand.jpg\\\").convert(\\\"L\\\")\\nimg = img.resize((70, 70))\\nimg = np.array(img)\\nimg = (img - np.mean(img)) / np.std(img)\\nplt.imshow(img)\";\n",
       "                var nbb_cells = Jupyter.notebook.get_cells();\n",
       "                for (var i = 0; i < nbb_cells.length; ++i) {\n",
       "                    if (nbb_cells[i].input_prompt_number == nbb_cell_id) {\n",
       "                        if (nbb_cells[i].get_text() == nbb_unformatted_code) {\n",
       "                             nbb_cells[i].set_text(nbb_formatted_code);\n",
       "                        }\n",
       "                        break;\n",
       "                    }\n",
       "                }\n",
       "            }, 500);\n",
       "            "
      ],
      "text/plain": [
       "<IPython.core.display.Javascript object>"
      ]
     },
     "metadata": {},
     "output_type": "display_data"
    }
   ],
   "source": [
    "from PIL import Image\n",
    "\n",
    "img = Image.open(\"../data/test/src_hand.jpg\").convert(\"L\")\n",
    "img = img.resize((70, 70))\n",
    "img = np.array(img)\n",
    "img = (img-np.mean(img))/np.std(img)\n",
    "plt.imshow(img)\n"
   ]
  },
  {
   "cell_type": "code",
   "execution_count": 4,
   "metadata": {},
   "outputs": [
    {
     "data": {
      "application/javascript": [
       "\n",
       "            setTimeout(function() {\n",
       "                var nbb_cell_id = 4;\n",
       "                var nbb_unformatted_code = \"optimiser_param = {\\n    \\\"u\\\": img,\\n    \\\"step_w\\\": 0.01,\\n    \\\"step_phi\\\": 10,\\n    \\\"eps\\\": 1,\\n    \\\"lambda_\\\": 1,\\n    \\\"mu\\\": 1,\\n    \\\"it\\\": 5,\\n    \\\"verbose\\\": True,\\n    \\\"mode\\\": \\\"standard\\\",\\n}\";\n",
       "                var nbb_formatted_code = \"optimiser_param = {\\n    \\\"u\\\": img,\\n    \\\"step_w\\\": 0.01,\\n    \\\"step_phi\\\": 10,\\n    \\\"eps\\\": 1,\\n    \\\"lambda_\\\": 1,\\n    \\\"mu\\\": 1,\\n    \\\"it\\\": 5,\\n    \\\"verbose\\\": True,\\n    \\\"mode\\\": \\\"standard\\\",\\n}\";\n",
       "                var nbb_cells = Jupyter.notebook.get_cells();\n",
       "                for (var i = 0; i < nbb_cells.length; ++i) {\n",
       "                    if (nbb_cells[i].input_prompt_number == nbb_cell_id) {\n",
       "                        if (nbb_cells[i].get_text() == nbb_unformatted_code) {\n",
       "                             nbb_cells[i].set_text(nbb_formatted_code);\n",
       "                        }\n",
       "                        break;\n",
       "                    }\n",
       "                }\n",
       "            }, 500);\n",
       "            "
      ],
      "text/plain": [
       "<IPython.core.display.Javascript object>"
      ]
     },
     "metadata": {},
     "output_type": "display_data"
    }
   ],
   "source": [
    "optimiser_param = {\n",
    "    \"u\": img,\n",
    "    \"step_w\": 0.01,\n",
    "    \"step_phi\": 10,\n",
    "    \"eps\": 1,\n",
    "    \"lambda_\": 1,\n",
    "    \"mu\": 1,\n",
    "    \"it\": 5,\n",
    "    \"verbose\": True,\n",
    "    \"mode\": \"standard\",\n",
    "}"
   ]
  },
  {
   "cell_type": "code",
   "execution_count": 5,
   "metadata": {},
   "outputs": [
    {
     "data": {
      "application/javascript": [
       "\n",
       "            setTimeout(function() {\n",
       "                var nbb_cell_id = 5;\n",
       "                var nbb_unformatted_code = \"segmenter = Segmenter(optimiser_param)\";\n",
       "                var nbb_formatted_code = \"segmenter = Segmenter(optimiser_param)\";\n",
       "                var nbb_cells = Jupyter.notebook.get_cells();\n",
       "                for (var i = 0; i < nbb_cells.length; ++i) {\n",
       "                    if (nbb_cells[i].input_prompt_number == nbb_cell_id) {\n",
       "                        if (nbb_cells[i].get_text() == nbb_unformatted_code) {\n",
       "                             nbb_cells[i].set_text(nbb_formatted_code);\n",
       "                        }\n",
       "                        break;\n",
       "                    }\n",
       "                }\n",
       "            }, 500);\n",
       "            "
      ],
      "text/plain": [
       "<IPython.core.display.Javascript object>"
      ]
     },
     "metadata": {},
     "output_type": "display_data"
    }
   ],
   "source": [
    "segmenter = Segmenter(optimiser_param)"
   ]
  },
  {
   "cell_type": "code",
   "execution_count": 6,
   "metadata": {},
   "outputs": [
    {
     "name": "stdout",
     "output_type": "stream",
     "text": [
      "itération 0/5\n",
      "itération 0 : w gradient: 30.605338258627192\n",
      "itération 0 : phi gradient: 35472.50787892893\n",
      "itération 1/5\n",
      "itération 1 : w gradient: 52.12358471876477\n",
      "itération 1 : phi gradient: 1913.0074701849562\n",
      "itération 2/5\n",
      "itération 2 : w gradient: 53.594490899577785\n",
      "itération 2 : phi gradient: 174.34006888888086\n",
      "itération 3/5\n",
      "itération 3 : w gradient: 54.43042867052574\n",
      "itération 3 : phi gradient: 0.21154097909239644\n",
      "itération 4/5\n",
      "itération 4 : w gradient: 55.348395098611974\n",
      "itération 4 : phi gradient: 0.001399475793263378\n"
     ]
    },
    {
     "data": {
      "application/javascript": [
       "\n",
       "            setTimeout(function() {\n",
       "                var nbb_cell_id = 6;\n",
       "                var nbb_unformatted_code = \"segmenter.segment()\";\n",
       "                var nbb_formatted_code = \"segmenter.segment()\";\n",
       "                var nbb_cells = Jupyter.notebook.get_cells();\n",
       "                for (var i = 0; i < nbb_cells.length; ++i) {\n",
       "                    if (nbb_cells[i].input_prompt_number == nbb_cell_id) {\n",
       "                        if (nbb_cells[i].get_text() == nbb_unformatted_code) {\n",
       "                             nbb_cells[i].set_text(nbb_formatted_code);\n",
       "                        }\n",
       "                        break;\n",
       "                    }\n",
       "                }\n",
       "            }, 500);\n",
       "            "
      ],
      "text/plain": [
       "<IPython.core.display.Javascript object>"
      ]
     },
     "metadata": {},
     "output_type": "display_data"
    }
   ],
   "source": [
    "segmenter.segment()"
   ]
  },
  {
   "cell_type": "code",
   "execution_count": 7,
   "metadata": {},
   "outputs": [
    {
     "data": {
      "image/png": "[encoded data removed]",
      "text/plain": [
       "<Figure size 432x288 with 1 Axes>"
      ]
     },
     "metadata": {
      "needs_background": "light"
     },
     "output_type": "display_data"
    },
    {
     "data": {
      "image/png": "[encoded data removed]",
      "text/plain": [
       "<Figure size 432x288 with 1 Axes>"
      ]
     },
     "metadata": {
      "needs_background": "light"
     },
     "output_type": "display_data"
    },
    {
     "data": {
      "image/png": "[encoded data removed]",
      "text/plain": [
       "<Figure size 432x288 with 1 Axes>"
      ]
     },
     "metadata": {
      "needs_background": "light"
     },
     "output_type": "display_data"
    },
    {
     "data": {
      "application/javascript": [
       "\n",
       "            setTimeout(function() {\n",
       "                var nbb_cell_id = 7;\n",
       "                var nbb_unformatted_code = \"segmenter.plot_stats()\";\n",
       "                var nbb_formatted_code = \"segmenter.plot_stats()\";\n",
       "                var nbb_cells = Jupyter.notebook.get_cells();\n",
       "                for (var i = 0; i < nbb_cells.length; ++i) {\n",
       "                    if (nbb_cells[i].input_prompt_number == nbb_cell_id) {\n",
       "                        if (nbb_cells[i].get_text() == nbb_unformatted_code) {\n",
       "                             nbb_cells[i].set_text(nbb_formatted_code);\n",
       "                        }\n",
       "                        break;\n",
       "                    }\n",
       "                }\n",
       "            }, 500);\n",
       "            "
      ],
      "text/plain": [
       "<IPython.core.display.Javascript object>"
      ]
     },
     "metadata": {},
     "output_type": "display_data"
    }
   ],
   "source": [
    "segmenter.plot_stats()"
   ]
  },
  {
   "cell_type": "code",
   "execution_count": null,
   "metadata": {},
   "outputs": [],
   "source": []
  }
 ],
 "metadata": {
  "kernelspec": {
   "display_name": "Python 3",
   "language": "python",
   "name": "python3"
  },
  "language_info": {
   "codemirror_mode": {
    "name": "ipython",
    "version": 3
   },
   "file_extension": ".py",
   "mimetype": "text/x-python",
   "name": "python",
   "nbconvert_exporter": "python",
   "pygments_lexer": "ipython3",
   "version": "3.7.4"
  }
 },
 "nbformat": 4,
 "nbformat_minor": 2
}
