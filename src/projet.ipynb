{
 "cells": [
  {
   "cell_type": "code",
   "execution_count": 1,
   "metadata": {},
   "outputs": [
    {
     "data": {
      "application/javascript": [
       "\n",
       "            setTimeout(function() {\n",
       "                var nbb_cell_id = 1;\n",
       "                var nbb_unformatted_code = \"%load_ext nb_black\";\n",
       "                var nbb_formatted_code = \"%load_ext nb_black\";\n",
       "                var nbb_cells = Jupyter.notebook.get_cells();\n",
       "                for (var i = 0; i < nbb_cells.length; ++i) {\n",
       "                    if (nbb_cells[i].input_prompt_number == nbb_cell_id) {\n",
       "                        if (nbb_cells[i].get_text() == nbb_unformatted_code) {\n",
       "                             nbb_cells[i].set_text(nbb_formatted_code);\n",
       "                        }\n",
       "                        break;\n",
       "                    }\n",
       "                }\n",
       "            }, 500);\n",
       "            "
      ],
      "text/plain": [
       "<IPython.core.display.Javascript object>"
      ]
     },
     "metadata": {},
     "output_type": "display_data"
    }
   ],
   "source": [
    "%load_ext nb_black"
   ]
  },
  {
   "cell_type": "code",
   "execution_count": 2,
   "metadata": {},
   "outputs": [
    {
     "data": {
      "application/javascript": [
       "\n",
       "            setTimeout(function() {\n",
       "                var nbb_cell_id = 2;\n",
       "                var nbb_unformatted_code = \"import numpy as np\\nimport math\\nfrom domain import (\\n    H_eps,\\n    H_eps_derivative,\\n    EPS,\\n    gradient_descent,\\n    grad_phi_part,\\n    grad_w_part,\\n    get_frontier_phi,\\n)\\nfrom scipy.ndimage.interpolation import shift\\nimport pandas as pd\\nimport matplotlib.pyplot as plt\\nimport matplotlib.image as mpimg\";\n",
       "                var nbb_formatted_code = \"import numpy as np\\nimport math\\nfrom domain import (\\n    H_eps,\\n    H_eps_derivative,\\n    EPS,\\n    gradient_descent,\\n    grad_phi_part,\\n    grad_w_part,\\n    get_frontier_phi,\\n)\\nfrom scipy.ndimage.interpolation import shift\\nimport pandas as pd\\nimport matplotlib.pyplot as plt\\nimport matplotlib.image as mpimg\";\n",
       "                var nbb_cells = Jupyter.notebook.get_cells();\n",
       "                for (var i = 0; i < nbb_cells.length; ++i) {\n",
       "                    if (nbb_cells[i].input_prompt_number == nbb_cell_id) {\n",
       "                        if (nbb_cells[i].get_text() == nbb_unformatted_code) {\n",
       "                             nbb_cells[i].set_text(nbb_formatted_code);\n",
       "                        }\n",
       "                        break;\n",
       "                    }\n",
       "                }\n",
       "            }, 500);\n",
       "            "
      ],
      "text/plain": [
       "<IPython.core.display.Javascript object>"
      ]
     },
     "metadata": {},
     "output_type": "display_data"
    }
   ],
   "source": [
    "import numpy as np\n",
    "import math\n",
    "from domain import (\n",
    "    H_eps,\n",
    "    H_eps_derivative,\n",
    "    EPS,\n",
    "    gradient_descent,\n",
    "    grad_phi_part,\n",
    "    grad_w_part,\n",
    "    get_frontier_phi,\n",
    ")\n",
    "from scipy.ndimage.interpolation import shift\n",
    "import pandas as pd\n",
    "import matplotlib.pyplot as plt\n",
    "import matplotlib.image as mpimg"
   ]
  },
  {
   "cell_type": "code",
   "execution_count": 3,
   "metadata": {
    "scrolled": true
   },
   "outputs": [
    {
     "data": {
      "text/plain": [
       "<matplotlib.image.AxesImage at 0x7fd642fb9390>"
      ]
     },
     "execution_count": 3,
     "metadata": {},
     "output_type": "execute_result"
    },
    {
     "data": {
      "image/png": "[encoded data removed]",
      "text/plain": [
       "<Figure size 432x288 with 1 Axes>"
      ]
     },
     "metadata": {
      "needs_background": "light"
     },
     "output_type": "display_data"
    },
    {
     "data": {
      "application/javascript": [
       "\n",
       "            setTimeout(function() {\n",
       "                var nbb_cell_id = 3;\n",
       "                var nbb_unformatted_code = \"from PIL import Image\\n\\nimg = Image.open(\\\"../data/test/src_tree.jpg\\\").convert(\\\"L\\\")\\nimg = img.resize((50, 50))\\nimg = np.array(img)\\nimg = (img-np.mean(img))/np.std(img)\\nplt.imshow(img)\";\n",
       "                var nbb_formatted_code = \"from PIL import Image\\n\\nimg = Image.open(\\\"../data/test/src_tree.jpg\\\").convert(\\\"L\\\")\\nimg = img.resize((50, 50))\\nimg = np.array(img)\\nimg = (img - np.mean(img)) / np.std(img)\\nplt.imshow(img)\";\n",
       "                var nbb_cells = Jupyter.notebook.get_cells();\n",
       "                for (var i = 0; i < nbb_cells.length; ++i) {\n",
       "                    if (nbb_cells[i].input_prompt_number == nbb_cell_id) {\n",
       "                        if (nbb_cells[i].get_text() == nbb_unformatted_code) {\n",
       "                             nbb_cells[i].set_text(nbb_formatted_code);\n",
       "                        }\n",
       "                        break;\n",
       "                    }\n",
       "                }\n",
       "            }, 500);\n",
       "            "
      ],
      "text/plain": [
       "<IPython.core.display.Javascript object>"
      ]
     },
     "metadata": {},
     "output_type": "display_data"
    }
   ],
   "source": [
    "from PIL import Image\n",
    "\n",
    "img = Image.open(\"../data/test/src_tree.jpg\").convert(\"L\")\n",
    "img = img.resize((50, 50))\n",
    "img = np.array(img)\n",
    "img = (img-np.mean(img))/np.std(img)\n",
    "plt.imshow(img)\n"
   ]
  },
  {
   "cell_type": "code",
   "execution_count": 4,
   "metadata": {},
   "outputs": [
    {
     "data": {
      "application/javascript": [
       "\n",
       "            setTimeout(function() {\n",
       "                var nbb_cell_id = 4;\n",
       "                var nbb_unformatted_code = \"test = np.random.uniform(-1, 1, img.shape)\\ntmp = np.random.uniform(-1, 1, (3, 3))\";\n",
       "                var nbb_formatted_code = \"test = np.random.uniform(-1, 1, img.shape)\\ntmp = np.random.uniform(-1, 1, (3, 3))\";\n",
       "                var nbb_cells = Jupyter.notebook.get_cells();\n",
       "                for (var i = 0; i < nbb_cells.length; ++i) {\n",
       "                    if (nbb_cells[i].input_prompt_number == nbb_cell_id) {\n",
       "                        if (nbb_cells[i].get_text() == nbb_unformatted_code) {\n",
       "                             nbb_cells[i].set_text(nbb_formatted_code);\n",
       "                        }\n",
       "                        break;\n",
       "                    }\n",
       "                }\n",
       "            }, 500);\n",
       "            "
      ],
      "text/plain": [
       "<IPython.core.display.Javascript object>"
      ]
     },
     "metadata": {},
     "output_type": "display_data"
    }
   ],
   "source": [
    "test = np.random.uniform(-1, 1, img.shape)\n",
    "tmp = np.random.uniform(-1, 1, (3, 3))"
   ]
  },
  {
   "cell_type": "code",
   "execution_count": 5,
   "metadata": {
    "scrolled": true
   },
   "outputs": [
    {
     "data": {
      "application/vnd.jupyter.widget-view+json": {
       "model_id": "20811bcdefac44fd903954cec77d3f63",
       "version_major": 2,
       "version_minor": 0
      },
      "text/plain": [
       "HBox(children=(IntProgress(value=0, max=5), HTML(value='')))"
      ]
     },
     "metadata": {},
     "output_type": "display_data"
    },
    {
     "name": "stdout",
     "output_type": "stream",
     "text": [
      "1161\n",
      "diff de w : 0.0\n",
      "Gradient de phi : 26718.111286364983\n",
      "291\n",
      "diff de w : 0.0\n",
      "Gradient de phi : 11144.02040279384\n",
      "224\n",
      "diff de w : 0.0\n",
      "Gradient de phi : 0.0\n",
      "224\n",
      "diff de w : 0.0\n",
      "Gradient de phi : 0.0\n",
      "224\n",
      "diff de w : 0.0\n",
      "Gradient de phi : 0.0\n",
      "\n"
     ]
    },
    {
     "data": {
      "application/javascript": [
       "\n",
       "            setTimeout(function() {\n",
       "                var nbb_cell_id = 5;\n",
       "                var nbb_unformatted_code = \"pp = gradient_descent(\\n    phi_0=test,\\n    w0=img,\\n    u=img,\\n    step_w=0.01,\\n    step_phi=10,\\n    trhld=0.1,\\n    eps=10,\\n    lambda_=1,\\n    mu=1,\\n    it=5,\\n    verbose=True,\\n)\";\n",
       "                var nbb_formatted_code = \"pp = gradient_descent(\\n    phi_0=test,\\n    w0=img,\\n    u=img,\\n    step_w=0.01,\\n    step_phi=10,\\n    trhld=0.1,\\n    eps=10,\\n    lambda_=1,\\n    mu=1,\\n    it=5,\\n    verbose=True,\\n)\";\n",
       "                var nbb_cells = Jupyter.notebook.get_cells();\n",
       "                for (var i = 0; i < nbb_cells.length; ++i) {\n",
       "                    if (nbb_cells[i].input_prompt_number == nbb_cell_id) {\n",
       "                        if (nbb_cells[i].get_text() == nbb_unformatted_code) {\n",
       "                             nbb_cells[i].set_text(nbb_formatted_code);\n",
       "                        }\n",
       "                        break;\n",
       "                    }\n",
       "                }\n",
       "            }, 500);\n",
       "            "
      ],
      "text/plain": [
       "<IPython.core.display.Javascript object>"
      ]
     },
     "metadata": {},
     "output_type": "display_data"
    }
   ],
   "source": [
    "pp = gradient_descent(\n",
    "    phi_0=test,\n",
    "    w0=img,\n",
    "    u=img,\n",
    "    step_w=0.01,\n",
    "    step_phi=10,\n",
    "    trhld=0.1,\n",
    "    eps=10,\n",
    "    lambda_=1,\n",
    "    mu=1,\n",
    "    it=5,\n",
    "    verbose=True,\n",
    ")"
   ]
  },
  {
   "cell_type": "code",
   "execution_count": 8,
   "metadata": {},
   "outputs": [
    {
     "data": {
      "application/javascript": [
       "\n",
       "            setTimeout(function() {\n",
       "                var nbb_cell_id = 8;\n",
       "                var nbb_unformatted_code = \"for i in range(pp[1].shape[0]):\\n    for j in range(pp[1].shape[1]):\\n        if pp[1][i, j] > 0:\\n            pp[1][i, j] = 1\\n        else:\\n            pp[1][i, j] = 0\";\n",
       "                var nbb_formatted_code = \"for i in range(pp[1].shape[0]):\\n    for j in range(pp[1].shape[1]):\\n        if pp[1][i, j] > 0:\\n            pp[1][i, j] = 1\\n        else:\\n            pp[1][i, j] = 0\";\n",
       "                var nbb_cells = Jupyter.notebook.get_cells();\n",
       "                for (var i = 0; i < nbb_cells.length; ++i) {\n",
       "                    if (nbb_cells[i].input_prompt_number == nbb_cell_id) {\n",
       "                        if (nbb_cells[i].get_text() == nbb_unformatted_code) {\n",
       "                             nbb_cells[i].set_text(nbb_formatted_code);\n",
       "                        }\n",
       "                        break;\n",
       "                    }\n",
       "                }\n",
       "            }, 500);\n",
       "            "
      ],
      "text/plain": [
       "<IPython.core.display.Javascript object>"
      ]
     },
     "metadata": {},
     "output_type": "display_data"
    }
   ],
   "source": [
    "for i in range(pp[1].shape[0]):\n",
    "    for j in range(pp[1].shape[1]):\n",
    "        if pp[1][i, j] > 0:\n",
    "            pp[1][i, j] = 1\n",
    "        else:\n",
    "            pp[1][i, j] = 0"
   ]
  },
  {
   "cell_type": "code",
   "execution_count": 7,
   "metadata": {},
   "outputs": [
    {
     "data": {
      "text/plain": [
       "<matplotlib.image.AxesImage at 0x7fd642621e90>"
      ]
     },
     "execution_count": 7,
     "metadata": {},
     "output_type": "execute_result"
    },
    {
     "data": {
      "image/png": "[encoded data removed]",
      "text/plain": [
       "<Figure size 432x288 with 1 Axes>"
      ]
     },
     "metadata": {
      "needs_background": "light"
     },
     "output_type": "display_data"
    },
    {
     "data": {
      "application/javascript": [
       "\n",
       "            setTimeout(function() {\n",
       "                var nbb_cell_id = 7;\n",
       "                var nbb_unformatted_code = \"plt.imshow(pp[2])\";\n",
       "                var nbb_formatted_code = \"plt.imshow(pp[2])\";\n",
       "                var nbb_cells = Jupyter.notebook.get_cells();\n",
       "                for (var i = 0; i < nbb_cells.length; ++i) {\n",
       "                    if (nbb_cells[i].input_prompt_number == nbb_cell_id) {\n",
       "                        if (nbb_cells[i].get_text() == nbb_unformatted_code) {\n",
       "                             nbb_cells[i].set_text(nbb_formatted_code);\n",
       "                        }\n",
       "                        break;\n",
       "                    }\n",
       "                }\n",
       "            }, 500);\n",
       "            "
      ],
      "text/plain": [
       "<IPython.core.display.Javascript object>"
      ]
     },
     "metadata": {},
     "output_type": "display_data"
    }
   ],
   "source": [
    "plt.imshow(pp[])"
   ]
  },
  {
   "cell_type": "code",
   "execution_count": 7,
   "metadata": {},
   "outputs": [
    {
     "data": {
      "text/plain": [
       "[[10, 22],\n",
       " [11, 15],\n",
       " [11, 16],\n",
       " [11, 17],\n",
       " [11, 21],\n",
       " [11, 22],\n",
       " [13, 14],\n",
       " [13, 15],\n",
       " [13, 16],\n",
       " [13, 17],\n",
       " [14, 13],\n",
       " [14, 16],\n",
       " [14, 17],\n",
       " [15, 14],\n",
       " [15, 24],\n",
       " [16, 17],\n",
       " [17, 18],\n",
       " [18, 18],\n",
       " [18, 24],\n",
       " [20, 19],\n",
       " [21, 19],\n",
       " [22, 36],\n",
       " [22, 38],\n",
       " [22, 40],\n",
       " [23, 19],\n",
       " [23, 24],\n",
       " [23, 33],\n",
       " [23, 40],\n",
       " [23, 42],\n",
       " [23, 43],\n",
       " [23, 44],\n",
       " [24, 19],\n",
       " [24, 44],\n",
       " [25, 24],\n",
       " [25, 29],\n",
       " [25, 35],\n",
       " [26, 19],\n",
       " [26, 24],\n",
       " [26, 27],\n",
       " [26, 50],\n",
       " [26, 51],\n",
       " [27, 18],\n",
       " [27, 19],\n",
       " [27, 20],\n",
       " [27, 40],\n",
       " [27, 42],\n",
       " [27, 46],\n",
       " [27, 50],\n",
       " [27, 52],\n",
       " [27, 53],\n",
       " [28, 18],\n",
       " [28, 23],\n",
       " [28, 30],\n",
       " [28, 53],\n",
       " [29, 24],\n",
       " [29, 53],\n",
       " [29, 54],\n",
       " [29, 55],\n",
       " [30, 28],\n",
       " [30, 43],\n",
       " [30, 44],\n",
       " [30, 55],\n",
       " [31, 28],\n",
       " [31, 31],\n",
       " [31, 33],\n",
       " [31, 51],\n",
       " [31, 57],\n",
       " [31, 58],\n",
       " [32, 17],\n",
       " [32, 27],\n",
       " [32, 28],\n",
       " [32, 31],\n",
       " [32, 49],\n",
       " [32, 57],\n",
       " [33, 17],\n",
       " [33, 49],\n",
       " [33, 50],\n",
       " [33, 58],\n",
       " [33, 59],\n",
       " [34, 32],\n",
       " [34, 43],\n",
       " [34, 58],\n",
       " [35, 16],\n",
       " [35, 20],\n",
       " [35, 27],\n",
       " [35, 49],\n",
       " [35, 59],\n",
       " [36, 16],\n",
       " [36, 17],\n",
       " [36, 19],\n",
       " [36, 28],\n",
       " [36, 43],\n",
       " [36, 50],\n",
       " [37, 19],\n",
       " [37, 26],\n",
       " [37, 27],\n",
       " [37, 34],\n",
       " [37, 46],\n",
       " [37, 57],\n",
       " [37, 58],\n",
       " [37, 59],\n",
       " [38, 16],\n",
       " [38, 26],\n",
       " [38, 35],\n",
       " [38, 36],\n",
       " [38, 38],\n",
       " [38, 42],\n",
       " [38, 47],\n",
       " [38, 57],\n",
       " [39, 16],\n",
       " [39, 26],\n",
       " [39, 46],\n",
       " [39, 51],\n",
       " [39, 52],\n",
       " [39, 53],\n",
       " [39, 55],\n",
       " [40, 49],\n",
       " [41, 48],\n",
       " [41, 49],\n",
       " [41, 50],\n",
       " [41, 51],\n",
       " [41, 55],\n",
       " [42, 16],\n",
       " [42, 17],\n",
       " [42, 18],\n",
       " [42, 19],\n",
       " [42, 20],\n",
       " [42, 21],\n",
       " [42, 27],\n",
       " [43, 23],\n",
       " [43, 47],\n",
       " [43, 48],\n",
       " [44, 25],\n",
       " [44, 26],\n",
       " [44, 27],\n",
       " [44, 45],\n",
       " [45, 22],\n",
       " [45, 27],\n",
       " [45, 28],\n",
       " [45, 29],\n",
       " [45, 32],\n",
       " [45, 34],\n",
       " [45, 37],\n",
       " [45, 39],\n",
       " [45, 41],\n",
       " [45, 42],\n",
       " [45, 43],\n",
       " [45, 44],\n",
       " [45, 45],\n",
       " [49, 48],\n",
       " [52, 24],\n",
       " [54, 35],\n",
       " [56, 24],\n",
       " [57, 22]]"
      ]
     },
     "execution_count": 7,
     "metadata": {},
     "output_type": "execute_result"
    },
    {
     "data": {
      "application/javascript": [
       "\n",
       "            setTimeout(function() {\n",
       "                var nbb_cell_id = 7;\n",
       "                var nbb_unformatted_code = \"np.argwhere(pp[1] >= 0).tolist()\";\n",
       "                var nbb_formatted_code = \"np.argwhere(pp[1] >= 0).tolist()\";\n",
       "                var nbb_cells = Jupyter.notebook.get_cells();\n",
       "                for (var i = 0; i < nbb_cells.length; ++i) {\n",
       "                    if (nbb_cells[i].input_prompt_number == nbb_cell_id) {\n",
       "                        if (nbb_cells[i].get_text() == nbb_unformatted_code) {\n",
       "                             nbb_cells[i].set_text(nbb_formatted_code);\n",
       "                        }\n",
       "                        break;\n",
       "                    }\n",
       "                }\n",
       "            }, 500);\n",
       "            "
      ],
      "text/plain": [
       "<IPython.core.display.Javascript object>"
      ]
     },
     "metadata": {},
     "output_type": "display_data"
    }
   ],
   "source": [
    "np.argwhere(pp[1] >= 0).tolist()"
   ]
  },
  {
   "cell_type": "code",
   "execution_count": 30,
   "metadata": {},
   "outputs": [
    {
     "ename": "NameError",
     "evalue": "name 'phi' is not defined",
     "output_type": "error",
     "traceback": [
      "\u001b[0;31m---------------------------------------------------------------------------\u001b[0m",
      "\u001b[0;31mNameError\u001b[0m                                 Traceback (most recent call last)",
      "\u001b[0;32m<ipython-input-30-862db5c588a2>\u001b[0m in \u001b[0;36m<module>\u001b[0;34m\u001b[0m\n\u001b[0;32m----> 1\u001b[0;31m \u001b[0mpositive_part\u001b[0m \u001b[0;34m=\u001b[0m \u001b[0mnp\u001b[0m\u001b[0;34m.\u001b[0m\u001b[0margwhere\u001b[0m\u001b[0;34m(\u001b[0m\u001b[0mphi\u001b[0m \u001b[0;34m>=\u001b[0m \u001b[0;36m0\u001b[0m\u001b[0;34m)\u001b[0m\u001b[0;34m.\u001b[0m\u001b[0mtolist\u001b[0m\u001b[0;34m(\u001b[0m\u001b[0;34m)\u001b[0m\u001b[0;34m\u001b[0m\u001b[0;34m\u001b[0m\u001b[0m\n\u001b[0m",
      "\u001b[0;31mNameError\u001b[0m: name 'phi' is not defined"
     ]
    },
    {
     "data": {
      "application/javascript": [
       "\n",
       "            setTimeout(function() {\n",
       "                var nbb_cell_id = 30;\n",
       "                var nbb_unformatted_code = \"positive_part = np.argwhere(phi >= 0).tolist()\";\n",
       "                var nbb_formatted_code = \"positive_part = np.argwhere(phi >= 0).tolist()\";\n",
       "                var nbb_cells = Jupyter.notebook.get_cells();\n",
       "                for (var i = 0; i < nbb_cells.length; ++i) {\n",
       "                    if (nbb_cells[i].input_prompt_number == nbb_cell_id) {\n",
       "                        if (nbb_cells[i].get_text() == nbb_unformatted_code) {\n",
       "                             nbb_cells[i].set_text(nbb_formatted_code);\n",
       "                        }\n",
       "                        break;\n",
       "                    }\n",
       "                }\n",
       "            }, 500);\n",
       "            "
      ],
      "text/plain": [
       "<IPython.core.display.Javascript object>"
      ]
     },
     "metadata": {},
     "output_type": "display_data"
    }
   ],
   "source": [
    "positive_part = np.argwhere(phi >= 0).tolist()"
   ]
  },
  {
   "cell_type": "code",
   "execution_count": 20,
   "metadata": {},
   "outputs": [
    {
     "data": {
      "application/javascript": [
       "\n",
       "            setTimeout(function() {\n",
       "                var nbb_cell_id = 20;\n",
       "                var nbb_unformatted_code = \"z = get_frontier(image=img, omega=pp, neighborhood_type=\\\"4_connex\\\")\";\n",
       "                var nbb_formatted_code = \"z = get_frontier(image=img, omega=pp, neighborhood_type=\\\"4_connex\\\")\";\n",
       "                var nbb_cells = Jupyter.notebook.get_cells();\n",
       "                for (var i = 0; i < nbb_cells.length; ++i) {\n",
       "                    if (nbb_cells[i].input_prompt_number == nbb_cell_id) {\n",
       "                        if (nbb_cells[i].get_text() == nbb_unformatted_code) {\n",
       "                             nbb_cells[i].set_text(nbb_formatted_code);\n",
       "                        }\n",
       "                        break;\n",
       "                    }\n",
       "                }\n",
       "            }, 500);\n",
       "            "
      ],
      "text/plain": [
       "<IPython.core.display.Javascript object>"
      ]
     },
     "metadata": {},
     "output_type": "display_data"
    }
   ],
   "source": [
    "z = get_frontier(image=img, omega=pp, neighborhood_type=\"4_connex\")"
   ]
  },
  {
   "cell_type": "code",
   "execution_count": 16,
   "metadata": {},
   "outputs": [
    {
     "data": {
      "image/png": "[encoded data removed]",
      "text/plain": [
       "<Figure size 432x288 with 1 Axes>"
      ]
     },
     "metadata": {
      "needs_background": "light"
     },
     "output_type": "display_data"
    },
    {
     "data": {
      "application/javascript": [
       "\n",
       "            setTimeout(function() {\n",
       "                var nbb_cell_id = 16;\n",
       "                var nbb_unformatted_code = \"for i in range(len(pp)):\\n    plt.scatter(pp[i][0], pp[i][1], color=\\\"black\\\", marker=\\\"*\\\")\";\n",
       "                var nbb_formatted_code = \"for i in range(len(pp)):\\n    plt.scatter(pp[i][0], pp[i][1], color=\\\"black\\\", marker=\\\"*\\\")\";\n",
       "                var nbb_cells = Jupyter.notebook.get_cells();\n",
       "                for (var i = 0; i < nbb_cells.length; ++i) {\n",
       "                    if (nbb_cells[i].input_prompt_number == nbb_cell_id) {\n",
       "                        if (nbb_cells[i].get_text() == nbb_unformatted_code) {\n",
       "                             nbb_cells[i].set_text(nbb_formatted_code);\n",
       "                        }\n",
       "                        break;\n",
       "                    }\n",
       "                }\n",
       "            }, 500);\n",
       "            "
      ],
      "text/plain": [
       "<IPython.core.display.Javascript object>"
      ]
     },
     "metadata": {},
     "output_type": "display_data"
    }
   ],
   "source": [
    "for i in range(len(pp)):\n",
    "    plt.scatter(pp[i][0], pp[i][1], color=\"black\", marker=\"*\")\n"
   ]
  }
 ],
 "metadata": {
  "kernelspec": {
   "display_name": "Python 3",
   "language": "python",
   "name": "python3"
  },
  "language_info": {
   "codemirror_mode": {
    "name": "ipython",
    "version": 3
   },
   "file_extension": ".py",
   "mimetype": "text/x-python",
   "name": "python",
   "nbconvert_exporter": "python",
   "pygments_lexer": "ipython3",
   "version": "3.7.4"
  }
 },
 "nbformat": 4,
 "nbformat_minor": 2
}
