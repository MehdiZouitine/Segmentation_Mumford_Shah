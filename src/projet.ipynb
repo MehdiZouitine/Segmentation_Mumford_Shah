{
 "cells": [
  {
   "cell_type": "code",
   "execution_count": 12,
   "metadata": {},
   "outputs": [
    {
     "name": "stdout",
     "output_type": "stream",
     "text": [
      "The nb_black extension is already loaded. To reload it, use:\n",
      "  %reload_ext nb_black\n"
     ]
    },
    {
     "data": {
      "application/javascript": [
       "\n",
       "            setTimeout(function() {\n",
       "                var nbb_cell_id = 12;\n",
       "                var nbb_unformatted_code = \"%load_ext nb_black\";\n",
       "                var nbb_formatted_code = \"%load_ext nb_black\";\n",
       "                var nbb_cells = Jupyter.notebook.get_cells();\n",
       "                for (var i = 0; i < nbb_cells.length; ++i) {\n",
       "                    if (nbb_cells[i].input_prompt_number == nbb_cell_id) {\n",
       "                        if (nbb_cells[i].get_text() == nbb_unformatted_code) {\n",
       "                             nbb_cells[i].set_text(nbb_formatted_code);\n",
       "                        }\n",
       "                        break;\n",
       "                    }\n",
       "                }\n",
       "            }, 500);\n",
       "            "
      ],
      "text/plain": [
       "<IPython.core.display.Javascript object>"
      ]
     },
     "metadata": {},
     "output_type": "display_data"
    }
   ],
   "source": [
    "%load_ext nb_black"
   ]
  },
  {
   "cell_type": "code",
   "execution_count": 13,
   "metadata": {},
   "outputs": [
    {
     "data": {
      "application/javascript": [
       "\n",
       "            setTimeout(function() {\n",
       "                var nbb_cell_id = 13;\n",
       "                var nbb_unformatted_code = \"import numpy as np\\nimport math\\nfrom domain import (\\n    H_eps,\\n    H_eps_derivative,\\n    EPS,\\n    gradient_descent,\\n    grad_phi_part,\\n    grad_w_part,\\n    get_frontier_phi,\\n)\\nfrom scipy.ndimage.interpolation import shift\\nimport pandas as pd\\nimport matplotlib.pyplot as plt\\nimport matplotlib.image as mpimg\\nfrom segmenter import Segmenter\";\n",
       "                var nbb_formatted_code = \"import numpy as np\\nimport math\\nfrom domain import (\\n    H_eps,\\n    H_eps_derivative,\\n    EPS,\\n    gradient_descent,\\n    grad_phi_part,\\n    grad_w_part,\\n    get_frontier_phi,\\n)\\nfrom scipy.ndimage.interpolation import shift\\nimport pandas as pd\\nimport matplotlib.pyplot as plt\\nimport matplotlib.image as mpimg\\nfrom segmenter import Segmenter\";\n",
       "                var nbb_cells = Jupyter.notebook.get_cells();\n",
       "                for (var i = 0; i < nbb_cells.length; ++i) {\n",
       "                    if (nbb_cells[i].input_prompt_number == nbb_cell_id) {\n",
       "                        if (nbb_cells[i].get_text() == nbb_unformatted_code) {\n",
       "                             nbb_cells[i].set_text(nbb_formatted_code);\n",
       "                        }\n",
       "                        break;\n",
       "                    }\n",
       "                }\n",
       "            }, 500);\n",
       "            "
      ],
      "text/plain": [
       "<IPython.core.display.Javascript object>"
      ]
     },
     "metadata": {},
     "output_type": "display_data"
    }
   ],
   "source": [
    "import numpy as np\n",
    "import math\n",
    "from domain import (\n",
    "    H_eps,\n",
    "    H_eps_derivative,\n",
    "    EPS,\n",
    "    gradient_descent,\n",
    "    grad_phi_part,\n",
    "    grad_w_part,\n",
    "    get_frontier_phi,\n",
    ")\n",
    "from scipy.ndimage.interpolation import shift\n",
    "import pandas as pd\n",
    "import matplotlib.pyplot as plt\n",
    "import matplotlib.image as mpimg\n",
    "from segmenter import Segmenter"
   ]
  },
  {
   "cell_type": "code",
   "execution_count": 14,
   "metadata": {
    "scrolled": true
   },
   "outputs": [
    {
     "data": {
      "text/plain": [
       "<matplotlib.image.AxesImage at 0x7ff2ef2a1b90>"
      ]
     },
     "execution_count": 14,
     "metadata": {},
     "output_type": "execute_result"
    },
    {
     "data": {
      "image/png": "[encoded data removed]",
      "text/plain": [
       "<Figure size 432x288 with 1 Axes>"
      ]
     },
     "metadata": {
      "needs_background": "light"
     },
     "output_type": "display_data"
    },
    {
     "data": {
      "application/javascript": [
       "\n",
       "            setTimeout(function() {\n",
       "                var nbb_cell_id = 14;\n",
       "                var nbb_unformatted_code = \"from PIL import Image\\n\\nimg = Image.open(\\\"../data/test/src_circle.jpg\\\").convert(\\\"L\\\")\\nimg = img.resize((100, 100))\\nimg = np.array(img)\\nmean = np.mean(img)\\nstd = np.std(img)\\nimg = (img - mean) / std\\nplt.imshow(img)\";\n",
       "                var nbb_formatted_code = \"from PIL import Image\\n\\nimg = Image.open(\\\"../data/test/src_circle.jpg\\\").convert(\\\"L\\\")\\nimg = img.resize((100, 100))\\nimg = np.array(img)\\nmean = np.mean(img)\\nstd = np.std(img)\\nimg = (img - mean) / std\\nplt.imshow(img)\";\n",
       "                var nbb_cells = Jupyter.notebook.get_cells();\n",
       "                for (var i = 0; i < nbb_cells.length; ++i) {\n",
       "                    if (nbb_cells[i].input_prompt_number == nbb_cell_id) {\n",
       "                        if (nbb_cells[i].get_text() == nbb_unformatted_code) {\n",
       "                             nbb_cells[i].set_text(nbb_formatted_code);\n",
       "                        }\n",
       "                        break;\n",
       "                    }\n",
       "                }\n",
       "            }, 500);\n",
       "            "
      ],
      "text/plain": [
       "<IPython.core.display.Javascript object>"
      ]
     },
     "metadata": {},
     "output_type": "display_data"
    }
   ],
   "source": [
    "from PIL import Image\n",
    "\n",
    "img = Image.open(\"../data/test/src_circle.jpg\").convert(\"L\")\n",
    "img = img.resize((100, 100))\n",
    "img = np.array(img)\n",
    "mean = np.mean(img)\n",
    "std = np.std(img)\n",
    "img = (img - mean) / std\n",
    "plt.imshow(img)"
   ]
  },
  {
   "cell_type": "code",
   "execution_count": 15,
   "metadata": {},
   "outputs": [
    {
     "data": {
      "application/javascript": [
       "\n",
       "            setTimeout(function() {\n",
       "                var nbb_cell_id = 15;\n",
       "                var nbb_unformatted_code = \"test = np.random.uniform(-1, 1, img.shape)\";\n",
       "                var nbb_formatted_code = \"test = np.random.uniform(-1, 1, img.shape)\";\n",
       "                var nbb_cells = Jupyter.notebook.get_cells();\n",
       "                for (var i = 0; i < nbb_cells.length; ++i) {\n",
       "                    if (nbb_cells[i].input_prompt_number == nbb_cell_id) {\n",
       "                        if (nbb_cells[i].get_text() == nbb_unformatted_code) {\n",
       "                             nbb_cells[i].set_text(nbb_formatted_code);\n",
       "                        }\n",
       "                        break;\n",
       "                    }\n",
       "                }\n",
       "            }, 500);\n",
       "            "
      ],
      "text/plain": [
       "<IPython.core.display.Javascript object>"
      ]
     },
     "metadata": {},
     "output_type": "display_data"
    }
   ],
   "source": [
    "test = np.random.uniform(-1, 1, img.shape)"
   ]
  },
  {
   "cell_type": "code",
   "execution_count": 21,
   "metadata": {},
   "outputs": [
    {
     "data": {
      "application/javascript": [
       "\n",
       "            setTimeout(function() {\n",
       "                var nbb_cell_id = 21;\n",
       "                var nbb_unformatted_code = \"optimiser_param = {\\n    \\\"u\\\": img,\\n    \\\"step_w\\\": 0.01,\\n    \\\"step_phi\\\": 10,\\n    \\\"eps\\\": 0.001,\\n    \\\"lambda_\\\": 1,\\n    \\\"mu\\\": 10,\\n    \\\"it\\\": 10,\\n    \\\"verbose\\\": True,\\n    \\\"mode\\\": \\\"standard\\\",\\n    \\\"test\\\": test,\\n}\";\n",
       "                var nbb_formatted_code = \"optimiser_param = {\\n    \\\"u\\\": img,\\n    \\\"step_w\\\": 0.01,\\n    \\\"step_phi\\\": 10,\\n    \\\"eps\\\": 0.001,\\n    \\\"lambda_\\\": 1,\\n    \\\"mu\\\": 10,\\n    \\\"it\\\": 10,\\n    \\\"verbose\\\": True,\\n    \\\"mode\\\": \\\"standard\\\",\\n    \\\"test\\\": test,\\n}\";\n",
       "                var nbb_cells = Jupyter.notebook.get_cells();\n",
       "                for (var i = 0; i < nbb_cells.length; ++i) {\n",
       "                    if (nbb_cells[i].input_prompt_number == nbb_cell_id) {\n",
       "                        if (nbb_cells[i].get_text() == nbb_unformatted_code) {\n",
       "                             nbb_cells[i].set_text(nbb_formatted_code);\n",
       "                        }\n",
       "                        break;\n",
       "                    }\n",
       "                }\n",
       "            }, 500);\n",
       "            "
      ],
      "text/plain": [
       "<IPython.core.display.Javascript object>"
      ]
     },
     "metadata": {},
     "output_type": "display_data"
    }
   ],
   "source": [
    "optimiser_param = {\n",
    "    \"u\": img,\n",
    "    \"step_w\": 0.01,\n",
    "    \"step_phi\": 10,\n",
    "    \"eps\": 0.001,\n",
    "    \"lambda_\": 1,\n",
    "    \"mu\": 10,\n",
    "    \"it\": 10,\n",
    "    \"verbose\": True,\n",
    "    \"mode\": \"standard\",\n",
    "    \"test\": test,\n",
    "}"
   ]
  },
  {
   "cell_type": "code",
   "execution_count": 22,
   "metadata": {},
   "outputs": [
    {
     "data": {
      "application/javascript": [
       "\n",
       "            setTimeout(function() {\n",
       "                var nbb_cell_id = 22;\n",
       "                var nbb_unformatted_code = \"segmenter = Segmenter(optimiser_param)\";\n",
       "                var nbb_formatted_code = \"segmenter = Segmenter(optimiser_param)\";\n",
       "                var nbb_cells = Jupyter.notebook.get_cells();\n",
       "                for (var i = 0; i < nbb_cells.length; ++i) {\n",
       "                    if (nbb_cells[i].input_prompt_number == nbb_cell_id) {\n",
       "                        if (nbb_cells[i].get_text() == nbb_unformatted_code) {\n",
       "                             nbb_cells[i].set_text(nbb_formatted_code);\n",
       "                        }\n",
       "                        break;\n",
       "                    }\n",
       "                }\n",
       "            }, 500);\n",
       "            "
      ],
      "text/plain": [
       "<IPython.core.display.Javascript object>"
      ]
     },
     "metadata": {},
     "output_type": "display_data"
    }
   ],
   "source": [
    "segmenter = Segmenter(optimiser_param)"
   ]
  },
  {
   "cell_type": "code",
   "execution_count": null,
   "metadata": {
    "scrolled": true
   },
   "outputs": [
    {
     "data": {
      "application/vnd.jupyter.widget-view+json": {
       "model_id": "267bf0f967194206a74d2c72f0a59b09",
       "version_major": 2,
       "version_minor": 0
      },
      "text/plain": [
       "HBox(children=(IntProgress(value=0, max=10), HTML(value='')))"
      ]
     },
     "metadata": {},
     "output_type": "display_data"
    },
    {
     "name": "stdout",
     "output_type": "stream",
     "text": [
      "itération 0/10\n",
      "itération 0 : w gradient: 16.49068140759243\n",
      "itération 0 : phi gradient: 0.0006554981988717336\n",
      "itération 0 munford_shah functional: 45293.16307682562\n",
      "itération 1/10\n",
      "itération 1 : w gradient: 13.219847739488529\n",
      "itération 1 : phi gradient: 0.0\n",
      "itération 1 munford_shah functional: 45295.11964117269\n",
      "itération 2/10\n",
      "itération 2 : w gradient: 10.600228790918015\n",
      "itération 2 : phi gradient: 0.0\n",
      "itération 2 munford_shah functional: 45296.7809880624\n",
      "itération 3/10\n"
     ]
    }
   ],
   "source": [
    "segmenter.segment()"
   ]
  },
  {
   "cell_type": "code",
   "execution_count": 20,
   "metadata": {
    "scrolled": true
   },
   "outputs": [
    {
     "data": {
      "image/png": "[encoded data removed]",
      "text/plain": [
       "<Figure size 432x288 with 1 Axes>"
      ]
     },
     "metadata": {
      "needs_background": "light"
     },
     "output_type": "display_data"
    },
    {
     "data": {
      "image/png": "[encoded data removed]",
      "text/plain": [
       "<Figure size 432x288 with 1 Axes>"
      ]
     },
     "metadata": {
      "needs_background": "light"
     },
     "output_type": "display_data"
    },
    {
     "data": {
      "image/png": "[encoded data removed]",
      "text/plain": [
       "<Figure size 432x288 with 1 Axes>"
      ]
     },
     "metadata": {
      "needs_background": "light"
     },
     "output_type": "display_data"
    },
    {
     "data": {
      "image/png": "[encoded data removed]",
      "text/plain": [
       "<Figure size 432x288 with 1 Axes>"
      ]
     },
     "metadata": {
      "needs_background": "light"
     },
     "output_type": "display_data"
    },
    {
     "data": {
      "image/png": "[encoded data removed]",
      "text/plain": [
       "<Figure size 432x288 with 1 Axes>"
      ]
     },
     "metadata": {
      "needs_background": "light"
     },
     "output_type": "display_data"
    },
    {
     "data": {
      "application/javascript": [
       "\n",
       "            setTimeout(function() {\n",
       "                var nbb_cell_id = 20;\n",
       "                var nbb_unformatted_code = \"segmenter.plot_stats()\";\n",
       "                var nbb_formatted_code = \"segmenter.plot_stats()\";\n",
       "                var nbb_cells = Jupyter.notebook.get_cells();\n",
       "                for (var i = 0; i < nbb_cells.length; ++i) {\n",
       "                    if (nbb_cells[i].input_prompt_number == nbb_cell_id) {\n",
       "                        if (nbb_cells[i].get_text() == nbb_unformatted_code) {\n",
       "                             nbb_cells[i].set_text(nbb_formatted_code);\n",
       "                        }\n",
       "                        break;\n",
       "                    }\n",
       "                }\n",
       "            }, 500);\n",
       "            "
      ],
      "text/plain": [
       "<IPython.core.display.Javascript object>"
      ]
     },
     "metadata": {},
     "output_type": "display_data"
    }
   ],
   "source": [
    "segmenter.plot_stats()"
   ]
  },
  {
   "cell_type": "code",
   "execution_count": null,
   "metadata": {},
   "outputs": [],
   "source": []
  },
  {
   "cell_type": "code",
   "execution_count": null,
   "metadata": {},
   "outputs": [],
   "source": []
  }
 ],
 "metadata": {
  "kernelspec": {
   "display_name": "Python 3",
   "language": "python",
   "name": "python3"
  },
  "language_info": {
   "codemirror_mode": {
    "name": "ipython",
    "version": 3
   },
   "file_extension": ".py",
   "mimetype": "text/x-python",
   "name": "python",
   "nbconvert_exporter": "python",
   "pygments_lexer": "ipython3",
   "version": "3.7.4"
  }
 },
 "nbformat": 4,
 "nbformat_minor": 2
}
